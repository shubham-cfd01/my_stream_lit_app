{
 "cells": [
  {
   "cell_type": "code",
   "execution_count": 1,
   "metadata": {},
   "outputs": [],
   "source": [
    "l=[1,2,3]"
   ]
  },
  {
   "cell_type": "code",
   "execution_count": 2,
   "metadata": {},
   "outputs": [
    {
     "name": "stdout",
     "output_type": "stream",
     "text": [
      "<class 'list'>\n"
     ]
    }
   ],
   "source": [
    "print (type(l))"
   ]
  },
  {
   "cell_type": "code",
   "execution_count": 7,
   "metadata": {},
   "outputs": [],
   "source": [
    "class Atm:\n",
    "    def __init__(self):\n",
    "        self.pin =''\n",
    "        self.balance = ''\n",
    "        self.menu()\n",
    "        print (\"mai to execute hogya\")\n",
    "    def menu(self):\n",
    "        user_input = input (\"\"\"press 1 to change the pin\n",
    "                            press 2 to enter the pin\n",
    "                            press 3 to withdraw mony \n",
    "                            press 4 check balance \"\"\")\n",
    "        print (user_input)\n",
    "        if user_input =='1':\n",
    "            self.change_pin()\n",
    "            print (\"pin changed sucessfully\")\n",
    "        elif user_input =='2':\n",
    "            print (\"enter the pin\")\n",
    "        elif user_input =='3':\n",
    "            print(\"withdraw money\")\n",
    "        elif user_input =='4':\n",
    "            print(\"checking balance\")\n",
    "            self.check_balance()\n",
    "    \n",
    "    def change_pin(self):\n",
    "        self.pin=int (input (\"Enter the new pin\"))\n",
    "        self.balance=int (input (\"Enter the new balance\"))\n",
    "        self.menu()\n",
    "    def check_balance(self):\n",
    "        pin =int (input (\"enter the pin\"))\n",
    "        if pin ==self.pin:\n",
    "            print (f\"your balance is: {self.balance}\")\n",
    "        else:\n",
    "            print (\"Chal Nikal Yha se\")\n",
    "\n",
    "    "
   ]
  },
  {
   "cell_type": "code",
   "execution_count": 8,
   "metadata": {},
   "outputs": [
    {
     "name": "stdout",
     "output_type": "stream",
     "text": [
      "1\n",
      "4\n",
      "checking balance\n",
      "your balance is: 10000\n",
      "pin changed sucessfully\n",
      "mai to execute hogya\n"
     ]
    }
   ],
   "source": [
    "p = Atm()"
   ]
  },
  {
   "cell_type": "code",
   "execution_count": 12,
   "metadata": {},
   "outputs": [
    {
     "name": "stdout",
     "output_type": "stream",
     "text": [
      "1234\n"
     ]
    }
   ],
   "source": [
    "print (p.pin)"
   ]
  },
  {
   "cell_type": "code",
   "execution_count": 5,
   "metadata": {},
   "outputs": [
    {
     "data": {
      "text/plain": [
       "4"
      ]
     },
     "execution_count": 5,
     "metadata": {},
     "output_type": "execute_result"
    }
   ],
   "source": [
    "2+2"
   ]
  }
 ],
 "metadata": {
  "kernelspec": {
   "display_name": ".venv",
   "language": "python",
   "name": "python3"
  },
  "language_info": {
   "codemirror_mode": {
    "name": "ipython",
    "version": 3
   },
   "file_extension": ".py",
   "mimetype": "text/x-python",
   "name": "python",
   "nbconvert_exporter": "python",
   "pygments_lexer": "ipython3",
   "version": "3.11.3"
  }
 },
 "nbformat": 4,
 "nbformat_minor": 2
}
